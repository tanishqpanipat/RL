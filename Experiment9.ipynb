{
  "nbformat": 4,
  "nbformat_minor": 0,
  "metadata": {
    "colab": {
      "provenance": [],
      "authorship_tag": "ABX9TyOkQ40w1GptRRKEeJ1cjLJl",
      "include_colab_link": true
    },
    "kernelspec": {
      "name": "python3",
      "display_name": "Python 3"
    },
    "language_info": {
      "name": "python"
    }
  },
  "cells": [
    {
      "cell_type": "markdown",
      "metadata": {
        "id": "view-in-github",
        "colab_type": "text"
      },
      "source": [
        "<a href=\"https://colab.research.google.com/github/tanishqpanipat/RL/blob/main/Experiment9.ipynb\" target=\"_parent\"><img src=\"https://colab.research.google.com/assets/colab-badge.svg\" alt=\"Open In Colab\"/></a>"
      ]
    },
    {
      "cell_type": "markdown",
      "source": [
        "\n",
        "EVERY VISIT"
      ],
      "metadata": {
        "id": "gFQgLqfmAsiJ"
      }
    },
    {
      "cell_type": "code",
      "source": [
        "import numpy as np\n",
        "\n",
        "# Define the episode\n",
        "episodes = [\n",
        "    [('A', 3), ('A', 2), ('B', -4), ('A', 4), ('B', -3)],\n",
        "    [('B', -2), ('A', 3), ('B', -3)]\n",
        "    ]\n",
        "\n",
        "# Define the states\n",
        "states = ['A', 'B']\n",
        "\n",
        "# Initialize the value function\n",
        "V = {s: 0 for s in states}\n",
        "\n",
        "# Perform Every-Visit Monte Carlo Policy Evaluation\n",
        "returns = {s: [] for s in states}\n",
        "\n",
        "for episode in episodes:\n",
        "    # Calculate returns and update the value function\n",
        "    G = 0\n",
        "    for t, (state, reward) in reversed(list(enumerate(episode))):\n",
        "        G = G + reward\n",
        "        # Removed the check for first visit\n",
        "        returns[state].append(G)\n",
        "        V[state] = np.mean(returns[state])\n",
        "\n",
        "# Print the value function\n",
        "print(V)"
      ],
      "metadata": {
        "colab": {
          "base_uri": "https://localhost:8080/"
        },
        "id": "X-5BvpM7Auk2",
        "outputId": "0167c668-289b-415f-a865-efbded0d31ea"
      },
      "execution_count": 1,
      "outputs": [
        {
          "output_type": "stream",
          "name": "stdout",
          "text": [
            "{'A': 0.5, 'B': -2.75}\n"
          ]
        }
      ]
    },
    {
      "cell_type": "markdown",
      "source": [
        "FIRST VISIT"
      ],
      "metadata": {
        "id": "9kAlcZOhA1kV"
      }
    },
    {
      "cell_type": "code",
      "source": [
        "import numpy as np\n",
        "\n",
        "# Define the episode\n",
        "episodes = [\n",
        "    [('A', 3), ('A', 2), ('B', -4), ('A', 4), ('B', -3)],\n",
        "    [('B', -2), ('A', 3), ('B', -3)]\n",
        "    ]\n",
        "\n",
        "# Define the states\n",
        "states = ['A', 'B']\n",
        "\n",
        "# Initialize the value function\n",
        "V = {s: 0 for s in states}\n",
        "\n",
        "# Perform First-Visit Monte Carlo Policy Evaluation\n",
        "returns = {s: [] for s in states}\n",
        "\n",
        "for episode in episodes:\n",
        "    # Calculate returns and update the value function\n",
        "    G = 0\n",
        "    for t, (state, reward) in reversed(list(enumerate(episode))):\n",
        "        G = G + reward\n",
        "        if state not in [x[0] for x in episode[:t]]:\n",
        "            returns[state].append(G)\n",
        "            V[state] = np.mean(returns[state])\n",
        "\n",
        "# Print the value function\n",
        "print(V)"
      ],
      "metadata": {
        "colab": {
          "base_uri": "https://localhost:8080/"
        },
        "id": "NXZwcQAQA2Lu",
        "outputId": "e54178b2-1f05-4b1d-d291-528a718f0cb3"
      },
      "execution_count": 2,
      "outputs": [
        {
          "output_type": "stream",
          "name": "stdout",
          "text": [
            "{'A': 1.0, 'B': -2.5}\n"
          ]
        }
      ]
    }
  ]
}